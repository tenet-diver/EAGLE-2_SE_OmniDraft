{
 "cells": [
  {
   "cell_type": "markdown",
   "metadata": {},
   "source": [
    "# EAGLE-2 SE OmniDraft Setup and Execution\n",
    "\n",
    "This notebook orchestrates the complete setup and execution process for the EAGLE-2 SE OmniDraft project.\n",
    "The logic has been refactored into separate modules for better maintainability.\n",
    "\n",
    "## Architecture\n",
    "- `config.py`: Configuration settings\n",
    "- `setup_utils.py`: Reusable setup utilities\n",
    "- `requirements.txt`: Python dependencies\n",
    "- This notebook: Orchestration and documentation\n",
    "\n",
    "## Prerequisites\n",
    "- Python 3.8+\n",
    "- CUDA-compatible GPU (recommended)\n",
    "- HuggingFace account for model access"
   ]
  },
  {
   "cell_type": "markdown",
   "metadata": {},
   "source": [
    "## Step 1: Import Dependencies and Configuration"
   ]
  },
  {
   "cell_type": "code",
   "execution_count": null,
   "metadata": {},
   "outputs": [],
   "source": [
    "import os\n",
    "import sys\n",
    "from pathlib import Path\n",
    "\n",
    "# Import our custom utilities\n",
    "from setup_utils import ProjectSetup, ModelManager, ScriptExecutor\n",
    "import config\n",
    "\n",
    "print(f\"Python version: {sys.version}\")\n",
    "print(f\"Current working directory: {os.getcwd()}\")\n",
    "print(f\"Repository URL: {config.REPO_URL}\")"
   ]
  },
  {
   "cell_type": "markdown",
   "metadata": {},
   "source": [
    "## Step 2: Environment Setup and Repository Management"
   ]
  },
  {
   "cell_type": "code",
   "execution_count": null,
   "metadata": {},
   "outputs": [],
   "source": [
    "# Initialize setup manager\n",
    "setup = ProjectSetup(config.PROJECT_DIR)\n",
    "\n",
    "# Check environment\n",
    "env_info = setup.check_environment()\n",
    "print(\"Environment Information:\")\n",
    "for key, value in env_info.items():\n",
    "    print(f\"  {key}: {value}\")"
   ]
  },
  {
   "cell_type": "code",
   "execution_count": null,
   "metadata": {},
   "outputs": [],
   "source": [
    "# Clone repository if needed\n",
    "clone_success = setup.clone_repository(config.REPO_URL)\n",
    "\n",
    "if clone_success:\n",
    "    # Change to project directory\n",
    "    if os.path.exists(config.PROJECT_DIR):\n",
    "        os.chdir(config.PROJECT_DIR)\n",
    "        print(f\"Changed to directory: {os.getcwd()}\")\n",
    "else:\n",
    "    print(\"❌ Failed to clone repository. Please check the URL and try again.\")"
   ]
  },
  {
   "cell_type": "markdown",
   "metadata": {},
   "source": [
    "## Step 3: Install Dependencies"
   ]
  },
  {
   "cell_type": "code",
   "execution_count": null,
   "metadata": {},
   "outputs": [],
   "source": [
    "# Install dependencies from requirements.txt\n",
    "install_success = setup.install_dependencies()\n",
    "\n",
    "if install_success:\n",
    "    # Verify imports\n",
    "    import_success = setup.verify_imports()\n",
    "    if not import_success:\n",
    "        print(\"❌ Some imports failed. Please check the installation.\")\nelse:\n",
    "    print(\"❌ Failed to install dependencies.\")"
   ]
  },
  {
   "cell_type": "markdown",
   "metadata": {},
   "source": [
    "## Step 4: Model Loading and Verification"
   ]
  },
  {
   "cell_type": "code",
   "execution_count": null,
   "metadata": {},
   "outputs": [],
   "source": [
    "# Initialize model manager\n",
    "model_manager = ModelManager()\n",
    "print(f\"Using device: {model_manager.device}\")\n",
    "print(f\"Tiny model: {model_manager.tiny_id}\")\n",
    "print(f\"Large model: {model_manager.large_id}\")"
   ]
  },
  {
   "cell_type": "code",
   "execution_count": null,
   "metadata": {},
   "outputs": [],
   "source": [
    "# Load TinyLlama model\n",
    "tiny_tokenizer, tiny_model = model_manager.load_tiny_model()\n",
    "\n",
    "if tiny_tokenizer and tiny_model:\n",
    "    model_manager.test_tokenization(tiny_tokenizer, \"TinyLlama\")\n",
    "else:\n",
    "    print(\"❌ Failed to load TinyLlama model\")"
   ]
  },
  {
   "cell_type": "code",
   "execution_count": null,
   "metadata": {},
   "outputs": [],
   "source": [
    "# Load Meta-Llama model (may require authentication)\n",
    "large_tokenizer, large_model = model_manager.load_large_model()\n",
    "\n",
    "if large_tokenizer and large_model:\n",
    "    model_manager.test_tokenization(large_tokenizer, \"Meta-Llama\")\n",
    "else:\n",
    "    print(\"❌ Failed to load Meta-Llama model\")\n",
    "    print(\"This is expected if you haven't set up HuggingFace authentication\")"
   ]
  },
  {
   "cell_type": "markdown",
   "metadata": {},
   "source": [
    "## Step 5: Script Execution"
   ]
  },
  {
   "cell_type": "code",
   "execution_count": null,
   "metadata": {},
   "outputs": [],
   "source": [
    "# Initialize script executor\n",
    "executor = ScriptExecutor(config.SCRIPT_NAME)\n",
    "\n",
    "# Check if script exists\n",
    "script_exists = executor.check_script_exists()"
   ]
  },
  {
   "cell_type": "code",
   "execution_count": null,
   "metadata": {},
   "outputs": [],
   "source": [
    "# Execute script as subprocess\n",
    "if script_exists:\n",
    "    success, stdout, stderr = executor.execute_script(timeout=config.SCRIPT_TIMEOUT)\n",
    "    \n",
    "    print(\"STDOUT:\")\n",
    "    print(stdout)\n",
    "    \n",
    "    if stderr:\n",
    "        print(\"\\nSTDERR:\")\n",
    "        print(stderr)\n",
    "    \n",
    "    print(\"=\" * 50)\n",
    "    if success:\n",
    "        print(\"✅ Script executed successfully\")\n",
    "    else:\n",
    "        print(\"❌ Script execution failed\")\nelse:\n",
    "    print(\"❌ Cannot execute: script not found\")"
   ]
  },
  {
   "cell_type": "markdown",
   "metadata": {},
   "source": [
    "## Step 6: Interactive Execution (Alternative)"
   ]
  },
  {
   "cell_type": "code",
   "execution_count": null,
   "metadata": {},
   "outputs": [],
   "source": [
    "# Import script as module for interactive use\n",
    "if script_exists:\n",
    "    hetero_module = executor.import_script_module()\n",
    "    \n",
    "    if hetero_module:\n",
    "        # Run interactive test\n",
    "        result = executor.run_interactive_test(\n",
    "            hetero_module, \n",
    "            prompt=config.TEST_PROMPT\n",
    "        )\n",
    "        \n",
    "        if result:\n",
    "            print(f\"\\nFinal result: {result}\")\nelse:\n",
    "    print(\"❌ Cannot run interactive execution: script not found\")"
   ]
  },
  {
   "cell_type": "markdown",
   "metadata": {},
   "source": [
    "## Step 7: Custom Testing"
   ]
  },
  {
   "cell_type": "code",
   "execution_count": null,
   "metadata": {},
   "outputs": [],
   "source": [
    "# Custom test with different parameters\n",
    "if 'hetero_module' in locals() and hetero_module:\n",
    "    custom_prompts = [\n",
    "        \"Once upon a time\",\n",
    "        \"The key to machine learning is\",\n",
    "        \"In the year 2030\"\n",
    "    ]\n",
    "    \n",
    "    print(\"Running custom tests with different prompts:\")\n",
    "    print(\"=\" * 50)\n",
    "    \n",
    "    for i, prompt in enumerate(custom_prompts, 1):\n",
    "        print(f\"\\nTest {i}: '{prompt}'\")\n",
    "        try:\n",
    "            result = hetero_module.heterogeneous_spec_decode(\n",
    "                prompt=prompt,\n",
    "                max_new_tokens=config.DEFAULT_MAX_NEW_TOKENS,\n",
    "                K=config.DEFAULT_K,\n",
    "                alpha=config.DEFAULT_ALPHA\n",
    "            )\n",
    "            print(f\"Result: {result}\")\n",
    "        except Exception as e:\n",
    "            print(f\"❌ Error: {e}\")\nelse:\n",
    "    print(\"❌ Module not available for custom testing\")"
   ]
  },
  {
   "cell_type": "markdown",
   "metadata": {},
   "source": [
    "## Summary and Next Steps\n",
    "\n",
    "### What This Notebook Accomplished:\n",
    "1. ✅ **Modular Architecture**: Extracted logic into reusable modules\n",
    "2. ✅ **Environment Setup**: Automated dependency installation and verification\n",
    "3. ✅ **Model Management**: Streamlined model loading with error handling\n",
    "4. ✅ **Script Execution**: Both subprocess and interactive execution modes\n",
    "5. ✅ **Configuration Management**: Centralized settings in `config.py`\n",
    "\n",
    "### Project Structure:\n",
    "```\n",
    "EAGLE-2_SE_OmniDraft/\n",
    "├── config.py                    # Configuration settings\n",
    "├── setup_utils.py              # Reusable utilities\n",
    "├── requirements.txt            # Python dependencies\n",
    "├── heterogeneous_spd.py        # Main script\n",
    "├── setup_and_run_refactored.ipynb  # This notebook\n",
    "└── README.md                   # Documentation\n",
    "```\n",
    "\n",
    "### Next Steps:\n",
    "- **Performance Monitoring**: Add GPU memory usage tracking\n",
    "- **Logging**: Implement structured logging for better debugging\n",
    "- **Testing**: Add unit tests for the utility modules\n",
    "- **Documentation**: Expand README with detailed usage instructions\n",
    "- **Configuration**: Add support for different model configurations\n",
    "\n",
    "### Troubleshooting:\n",
    "- **Model Loading Issues**: Check HuggingFace authentication and model availability\n",
    "- **CUDA Errors**: Verify GPU drivers and PyTorch CUDA compatibility\n",
    "- **Memory Issues**: Consider using model quantization or CPU execution\n",
    "- **Import Errors**: Ensure all dependencies are properly installed"
   ]
  }
 ],
 "metadata": {
  "kernelspec": {
   "display_name": "Python 3",
   "language": "python",
   "name": "python3"
  },
  "language_info": {
   "codemirror_mode": {
    "name": "ipython",
    "version": 3
   },
   "file_extension": ".py",
   "mimetype": "text/x-python",
   "name": "python",
   "nbconvert_exporter": "python",
   "pygments_lexer": "ipython3",
   "version": "3.8.0"
  }
 },
 "nbformat": 4,
 "nbformat_minor": 4
}
